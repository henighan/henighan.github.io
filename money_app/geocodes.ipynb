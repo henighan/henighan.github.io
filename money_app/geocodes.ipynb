{
 "cells": [
  {
   "cell_type": "markdown",
   "metadata": {},
   "source": [
    "# Geocodes"
   ]
  },
  {
   "cell_type": "code",
   "execution_count": 34,
   "metadata": {
    "collapsed": true
   },
   "outputs": [],
   "source": [
    "import json\n",
    "import simplejson\n",
    "import pandas as pd"
   ]
  },
  {
   "cell_type": "code",
   "execution_count": 35,
   "metadata": {
    "collapsed": true
   },
   "outputs": [],
   "source": [
    "dumbstring = '01: \"AL\", 02: \"AK\", 04: \"AZ\", 05: \"AR\", 06: \"CA\", 08: \"CO\", 09: \"CT\", 10: \"DE\", 11: \"DC\", 12: \"FL\", 13: \"GA\", 15: \"HI\", 16: \"ID\", 17: \"IL\", 18: \"IN\", 19: \"IA\", 20: \"KS\", 21: \"KY\", 22: \"LA\", 23: \"ME\", 24: \"MD\", 25: \"MA\", 26: \"MI\", 27: \"MN\", 28: \"MS\", 29: \"MO\", 30: \"MT\", 31: \"NE\", 32: \"NV\", 33: \"NH\", 34: \"NJ\", 35: \"NM\", 36: \"NY\", 37: \"NC\", 38: \"ND\", 39: \"OH\", 40: \"OK\", 41: \"OR\", 42: \"PA\", 44: \"RI\", 45: \"SC\", 46: \"SD\", 47: \"TN\", 48: \"TX\", 49: \"UT\", 50: \"VT\", 51: \"VA\", 53: \"WA\", 54: \"WV\", 55: \"WI\", 56: \"WY\"';"
   ]
  },
  {
   "cell_type": "code",
   "execution_count": 36,
   "metadata": {
    "collapsed": false
   },
   "outputs": [],
   "source": [
    "dumblist = dumbstring.split(', ')\n",
    "abbrevlist = [entry.split(': ') for entry in dumblist]\n",
    "#map(list, zip(*test2))\n",
    "for ii in range(len(test2)):\n",
    "    abbrevlist[ii][1] = abbrevlist[ii][1].replace('\"','')\n",
    "abbrevlist = map(list, zip(*abbrevlist))\n",
    "#abbrevlist[0]\n",
    "d = {'abbreviation' : pd.Series(abbrevlist[1], index=abbrevlist[0]), 'statefp' : pd.Series(abbrevlist[0], index=abbrevlist[0])}\n",
    "abdf = pd.DataFrame(d)\n",
    "abdf.head()\n",
    "abdf.to_csv('statefp.csv', sep=',', index=False)"
   ]
  },
  {
   "cell_type": "code",
   "execution_count": null,
   "metadata": {
    "collapsed": true
   },
   "outputs": [],
   "source": []
  }
 ],
 "metadata": {
  "kernelspec": {
   "display_name": "Python 2",
   "language": "python",
   "name": "python2"
  },
  "language_info": {
   "codemirror_mode": {
    "name": "ipython",
    "version": 2
   },
   "file_extension": ".py",
   "mimetype": "text/x-python",
   "name": "python",
   "nbconvert_exporter": "python",
   "pygments_lexer": "ipython2",
   "version": "2.7.10"
  }
 },
 "nbformat": 4,
 "nbformat_minor": 0
}
